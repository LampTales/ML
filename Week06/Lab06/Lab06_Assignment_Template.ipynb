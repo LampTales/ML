{
 "cells": [
  {
   "cell_type": "markdown",
   "metadata": {
    "scrolled": true
   },
   "source": [
    "# LAB06 Assigment\n",
    "\n",
    "\n"
   ]
  },
  {
   "cell_type": "markdown",
   "metadata": {},
   "source": [
    "### Exercise 1 Linear Discriminant Analysis from Scratch using numpy (50 points )\n",
    "- <font size=4> Complete the missing code in the LDA class below<font>"
   ]
  },
  {
   "cell_type": "code",
   "execution_count": 38,
   "metadata": {
    "ExecuteTime": {
     "end_time": "2023-11-06T15:25:18.459760Z",
     "start_time": "2023-11-06T15:25:18.411479700Z"
    }
   },
   "outputs": [],
   "source": [
    "import numpy as np\n",
    "import matplotlib.pyplot as plt\n",
    "\n",
    "\n",
    "class LDA:\n",
    "    #n_components:Number of components (<= min(n_classes - 1, n_features)) for dimensionality reduction.\n",
    "    def __init__(self, n_components=None):\n",
    "        \n",
    "        self.n_components = n_components\n",
    "        self.eigenvalues = None\n",
    "        self.eigenvectors = None\n",
    "\n",
    "    def fit(self, X, y):\n",
    "        if self.n_components is None or self.n_components > X.shape[1]:\n",
    "            n_components = X.shape[1]\n",
    "        else:\n",
    "            n_components = self.n_components\n",
    "       \n",
    "        n_features = np.shape(X)[1]\n",
    "        labels = np.unique(y)\n",
    "  \n",
    "        # Within class scatter matrix\n",
    "        # Complete code for calculating S_W\n",
    "        ########### Write Your Code Here ###########\n",
    "\n",
    "        S_W = np.zeros((n_features, n_features))\n",
    "        for label in labels:\n",
    "            S_i = np.zeros((n_features, n_features))\n",
    "            X_i = X[y == label]\n",
    "            m_i = np.mean(X_i, axis=0)\n",
    "            for x in X_i:\n",
    "                x, m_i = x.reshape(n_features, 1), m_i.reshape(n_features, 1)\n",
    "                S_i += (x - m_i).dot((x - m_i).T)\n",
    "            S_W += S_i\n",
    "        S_W = S_W + 0.005 * np.eye(S_W.shape[0])\n",
    "\n",
    "        ############################################\n",
    "\n",
    "\n",
    "\n",
    "        # Between class scatter matrix\n",
    "        # Complete code for calculating S_W\n",
    "        ########### Write Your Code Here ###########\n",
    "\n",
    "        S_B = np.zeros((n_features, n_features))\n",
    "        m = np.mean(X, axis=0).reshape(n_features, 1)\n",
    "        for label in labels:\n",
    "            X_i = X[y == label]\n",
    "            m_i = np.mean(X_i, axis=0)\n",
    "            n_i = X_i.shape[0]\n",
    "            m_i, m = m_i.reshape(n_features, 1), m.reshape(n_features, 1)\n",
    "            S_B += n_i * (m_i - m).dot((m_i - m).T)\n",
    "\n",
    "        ############################################\n",
    "\n",
    "      \n",
    "        # Determine SW^-1 * SB by calculating inverse of SW\n",
    "        ########### Write Your Code Here ###########\n",
    "        \n",
    "        S_W_inv = np.linalg.inv(S_W)\n",
    "        SW_inv_SB = S_W_inv.dot(S_B)\n",
    "\n",
    "        ############################################\n",
    "\n",
    "\n",
    "\n",
    "        # Get eigenvalues and eigenvectors of SW^-1 * SB\n",
    "        ########### Write Your Code Here ###########\n",
    "\n",
    "        eigenvalues, eigenvectors = np.linalg.eig(SW_inv_SB)\n",
    "\n",
    "        ############################################\n",
    "\n",
    "\n",
    "\n",
    "        # Sort the eigenvalues and corresponding eigenvectors from largest\n",
    "        # to smallest eigenvalue and select the first n_components\n",
    "        idx = eigenvalues.argsort()[::-1]\n",
    "        eigenvalues = eigenvalues[idx][:n_components]\n",
    "        eigenvectors = eigenvectors[:, idx][:, :n_components]\n",
    "  \n",
    "        self.eigenvalues = eigenvalues\n",
    "        self.eigenvectors = eigenvectors\n",
    "  \n",
    "    def fit_transform(self, X, y):\n",
    "        ########### Write Your Code Here ###########\n",
    "\n",
    "        self.fit(X, y)\n",
    "        X_transformed = self.transform(X)\n",
    "        return X_transformed\n",
    "\n",
    "        ############################################\n",
    "\n",
    "  \n",
    "    def transform(self, X):\n",
    "        ########### Write Your Code Here ###########\n",
    "\n",
    "        X_transformed = X.dot(self.eigenvectors)\n",
    "        return X_transformed\n",
    "\n",
    "        ############################################\n",
    "\n",
    "    def predict(self, X):\n",
    "        ########### Write Your Code Here ###########\n",
    "        y_pred = []\n",
    "\n",
    "        X_transformed = self.transform(X)\n",
    "        for x in X_transformed:\n",
    "            x = x.reshape(x.shape[0], 1)\n",
    "            distances = [np.linalg.norm(x - self.eigenvectors[:, i].reshape(x.shape[0], 1)) for i in range(self.eigenvectors.shape[1])]\n",
    "            y_pred.append(np.argmin(distances))\n",
    "        return y_pred\n",
    "\n",
    "        \n",
    "\n",
    "        ############################################"
   ]
  },
  {
   "cell_type": "markdown",
   "metadata": {},
   "source": [
    "- <font size=4> Dimensionality reduction visualization<font>"
   ]
  },
  {
   "cell_type": "code",
   "execution_count": 39,
   "metadata": {
    "ExecuteTime": {
     "end_time": "2023-11-06T15:25:18.632941400Z",
     "start_time": "2023-11-06T15:25:18.434608300Z"
    }
   },
   "outputs": [
    {
     "data": {
      "text/plain": "<Figure size 288x216 with 1 Axes>",
      "image/png": "[encoded data removed]"
     },
     "metadata": {
      "needs_background": "light"
     },
     "output_type": "display_data"
    }
   ],
   "source": [
    "import matplotlib.pyplot as plt\n",
    "from mpl_toolkits.mplot3d import Axes3D\n",
    "from sklearn import datasets\n",
    "\n",
    "np.random.seed(5)\n",
    "\n",
    "\n",
    "iris = datasets.load_iris()\n",
    "X = iris.data\n",
    "y = iris.target\n",
    "pca = LDA(n_components=3)\n",
    "pca.fit(X, y)\n",
    "X = pca.transform(X)\n",
    "\n",
    "fig = plt.figure(1, figsize=(4, 3))\n",
    "ax = fig.add_subplot(111, projection=\"3d\", elev=48, azim=134)\n",
    "ax.set_position([0, 0, 0.95, 1])\n",
    "for name, label in [('Setosa', 0), ('Versicolour', 1), ('Virginica', 2)]:    \n",
    "    ax.text3D(\n",
    "        X[y == label, 0].mean(),\n",
    "        X[y == label, 1].mean(),\n",
    "        X[y == label, 2].mean() + 2,\n",
    "        name,\n",
    "        horizontalalignment=\"center\",\n",
    "        bbox=dict(alpha=0.5, edgecolor=\"w\", facecolor=\"w\"),\n",
    "    )\n",
    "# Reorder the labels to have colors matching the cluster results\n",
    "y = np.choose(y, [1, 2, 0]).astype(float)\n",
    "ax.scatter(X[:, 0], X[:, 1], X[:, 2], c=y, \n",
    "        edgecolor='k')\n",
    "\n",
    "ax.w_xaxis.set_ticklabels([])\n",
    "ax.w_yaxis.set_ticklabels([])\n",
    "ax.w_zaxis.set_ticklabels([])\n",
    "\n",
    "ax.set_xlabel(\"Petal width\")\n",
    "ax.set_ylabel(\"Sepal length\")\n",
    "ax.set_zlabel(\"Petal length\")\n",
    "# ax.set_title(\"Ground Truth\")\n",
    "ax.dist = 12\n",
    "\n",
    "plt.show()"
   ]
  },
  {
   "cell_type": "markdown",
   "metadata": {},
   "source": [
    "### Exercise 2 Recognize handwritten numbers with LDA (50 points ). \n",
    "\n",
    "Your task in this section is to recognize handwritten numbers, and you can use the linear discriminant analysis model from the Scikit-Learn library to fit, evaluate, and predict them.\n",
    "\n",
    "<font color='red' size=4>Note that your accuracy in this section will directly determine your score.</font>"
   ]
  },
  {
   "cell_type": "markdown",
   "metadata": {},
   "source": [
    "### Loading the MNIST Dataset\n"
   ]
  },
  {
   "cell_type": "code",
   "execution_count": 40,
   "metadata": {
    "ExecuteTime": {
     "end_time": "2023-11-06T15:26:27.502810Z",
     "start_time": "2023-11-06T15:25:18.634445200Z"
    }
   },
   "outputs": [
    {
     "data": {
      "text/plain": "((70000, 784), (70000,))"
     },
     "execution_count": 40,
     "metadata": {},
     "output_type": "execute_result"
    }
   ],
   "source": [
    "#get minist dataset\n",
    "########### Write Your Code Here ###########\n",
    "\n",
    "from sklearn.datasets import fetch_openml\n",
    "mnist = fetch_openml('mnist_784', version=1)\n",
    "X = mnist.data\n",
    "y = mnist.target\n",
    "X = X.astype(np.float64)\n",
    "y = y.astype(np.float64)\n",
    "X.shape, y.shape\n",
    "\n",
    "############################################"
   ]
  },
  {
   "cell_type": "markdown",
   "metadata": {},
   "source": [
    "###  Visualization of MINIST"
   ]
  },
  {
   "cell_type": "code",
   "execution_count": 41,
   "metadata": {
    "ExecuteTime": {
     "end_time": "2023-11-06T15:26:27.897633800Z",
     "start_time": "2023-11-06T15:26:27.504439400Z"
    }
   },
   "outputs": [
    {
     "data": {
      "text/plain": "<Figure size 864x360 with 10 Axes>",
      "image/png": "[encoded data removed]"
     },
     "metadata": {
      "needs_background": "light"
     },
     "output_type": "display_data"
    }
   ],
   "source": [
    "# Visualize MINIST\n",
    "########### Write Your Code Here ###########\n",
    "\n",
    "import matplotlib.pyplot as plt\n",
    "import numpy as np\n",
    "X = np.array(X)\n",
    "y = np.array(y)\n",
    "\n",
    "fig, axes = plt.subplots(2, 5, figsize=(12, 5))\n",
    "for i in range(10):\n",
    "    ax = axes[i // 5, i % 5]\n",
    "    ax.imshow(X[i].reshape(28, 28), cmap='gray')\n",
    "    ax.set_title(y[i])\n",
    "    ax.axis('off')\n",
    "plt.show()\n",
    "\n",
    "############################################"
   ]
  },
  {
   "cell_type": "markdown",
   "metadata": {},
   "source": [
    "### Fit  Model"
   ]
  },
  {
   "cell_type": "code",
   "execution_count": 42,
   "outputs": [
    {
     "name": "stderr",
     "output_type": "stream",
     "text": [
      "C:\\Users\\ASUS\\AppData\\Local\\Temp\\ipykernel_8508\\1149913161.py:8: ComplexWarning: Casting complex values to real discards the imaginary part\n",
      "  X_train_transform = pca.transform(X_train).astype(np.float64)\n",
      "C:\\Users\\ASUS\\AppData\\Local\\Temp\\ipykernel_8508\\1149913161.py:9: ComplexWarning: Casting complex values to real discards the imaginary part\n",
      "  X_test_transform = pca.transform(X_test).astype(np.float64)\n"
     ]
    },
    {
     "data": {
      "text/plain": "((52500, 128), (17500, 128))"
     },
     "execution_count": 42,
     "metadata": {},
     "output_type": "execute_result"
    }
   ],
   "source": [
    "########### Write Your Code Here ###########\n",
    "\n",
    "from sklearn.model_selection import train_test_split\n",
    "X_train, X_test, y_train, y_test = train_test_split(X, y)\n",
    "\n",
    "pca = LDA(n_components=128)\n",
    "pca.fit(X_train, y_train)\n",
    "X_train_transform = pca.transform(X_train).astype(np.float64)\n",
    "X_test_transform = pca.transform(X_test).astype(np.float64)\n",
    "X_train_transform.shape, X_test_transform.shape\n",
    "\n",
    "############################################"
   ],
   "metadata": {
    "collapsed": false,
    "ExecuteTime": {
     "end_time": "2023-11-06T15:27:59.739767200Z",
     "start_time": "2023-11-06T15:26:27.897633800Z"
    }
   }
  },
  {
   "cell_type": "markdown",
   "metadata": {},
   "source": [
    "## Evaluate model"
   ]
  },
  {
   "cell_type": "code",
   "execution_count": 46,
   "metadata": {
    "tags": [],
    "ExecuteTime": {
     "end_time": "2023-11-06T15:37:23.689238900Z",
     "start_time": "2023-11-06T15:37:20.037754800Z"
    }
   },
   "outputs": [
    {
     "name": "stdout",
     "output_type": "stream",
     "text": [
      "0.8686285714285714\n"
     ]
    }
   ],
   "source": [
    "########### Write Your Code Here ###########\n",
    "\n",
    "from sklearn.discriminant_analysis import LinearDiscriminantAnalysis\n",
    "from sklearn.linear_model import LogisticRegression\n",
    "from sklearn.neighbors import KNeighborsClassifier\n",
    "from sklearn.metrics import accuracy_score\n",
    "\n",
    "# ori = LogisticRegression()\n",
    "# ori.fit(X_train, y_train)\n",
    "# y_pred = ori.predict(X_test)\n",
    "# accuracy = accuracy_score(y_test, y_pred)\n",
    "# print(\"ORI Accuracy: \", accuracy)\n",
    "# \n",
    "# \n",
    "# trf = LogisticRegression()\n",
    "# trf.fit(X_train_transform, y_train)\n",
    "# y_pred = trf.predict(X_test_transform)\n",
    "# accuracy = accuracy_score(y_test, y_pred)\n",
    "# print(\"LDA Accuracy: \", accuracy)\n",
    "\n",
    "# ori = KNeighborsClassifier(10)\n",
    "# ori.fit(X_train, y_train)\n",
    "# y_pred = ori.predict(X_test)\n",
    "# accuracy = accuracy_score(y_test, y_pred)\n",
    "# print(\"ORI Accuracy: \", accuracy)\n",
    "# \n",
    "# \n",
    "# trf = KNeighborsClassifier(10)\n",
    "# trf.fit(X_train_transform, y_train)\n",
    "# y_pred = trf.predict(X_test_transform)\n",
    "# accuracy = accuracy_score(y_test, y_pred)\n",
    "# print(\"LDA Accuracy: \", accuracy)\n",
    "\n",
    "\n",
    "sk_LDA = LinearDiscriminantAnalysis()\n",
    "sk_LDA.fit(X_train, y_train)\n",
    "y_pred = sk_LDA.predict(X_test)\n",
    "accuracy = accuracy_score(y_test, y_pred)\n",
    "print(accuracy)\n",
    "\n",
    "############################################\n"
   ]
  },
  {
   "cell_type": "markdown",
   "metadata": {},
   "source": [
    "### Exercise 3: Qustions\n",
    "- Q1:What are the advantages and disadvantages of LDA?\n"
   ]
  },
  {
   "cell_type": "markdown",
   "metadata": {},
   "source": [
    "- Q2 LDA can be used for dimensionality reduction, so can PCA. Please tell the difference between them?"
   ]
  }
 ],
 "metadata": {
  "kernelspec": {
   "display_name": "Python 3 (ipykernel)",
   "language": "python",
   "name": "python3"
  },
  "language_info": {
   "codemirror_mode": {
    "name": "ipython",
    "version": 3
   },
   "file_extension": ".py",
   "mimetype": "text/x-python",
   "name": "python",
   "nbconvert_exporter": "python",
   "pygments_lexer": "ipython3",
   "version": "3.9.13"
  },
  "vscode": {
   "interpreter": {
    "hash": "773bfaa0e82744962f3138a2d7b2f007250d49f330da41a556809ccbcf17bfbe"
   }
  }
 },
 "nbformat": 4,
 "nbformat_minor": 4
}
