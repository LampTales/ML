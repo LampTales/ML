{
 "cells": [
  {
   "cell_type": "markdown",
   "metadata": {
    "toc": true
   },
   "source": [
    "<h1>Table of Contents<span class=\"tocSkip\"></span></h1>\n",
    "<div class=\"toc\"><ul class=\"toc-item\"><li><span><a href=\"#Objective\" data-toc-modified-id=\"Objective-1\"><span class=\"toc-item-num\">1&nbsp;&nbsp;</span>Objective</a></span></li><li><span><a href=\"#Convolutional-Neural-Network\" data-toc-modified-id=\"Convolutional-Neural-Network-2\"><span class=\"toc-item-num\">2&nbsp;&nbsp;</span>Convolutional Neural Network</a></span><ul class=\"toc-item\"><li><span><a href=\"#Convolution-Layer\" data-toc-modified-id=\"Convolution-Layer-2.1\"><span class=\"toc-item-num\">2.1&nbsp;&nbsp;</span>Convolution Layer</a></span><ul class=\"toc-item\"><li><span><a href=\"#Depth\" data-toc-modified-id=\"Depth-2.1.1\"><span class=\"toc-item-num\">2.1.1&nbsp;&nbsp;</span>Depth</a></span></li><li><span><a href=\"#Padding\" data-toc-modified-id=\"Padding-2.1.2\"><span class=\"toc-item-num\">2.1.2&nbsp;&nbsp;</span>Padding</a></span></li><li><span><a href=\"#Stride\" data-toc-modified-id=\"Stride-2.1.3\"><span class=\"toc-item-num\">2.1.3&nbsp;&nbsp;</span>Stride</a></span></li><li><span><a href=\"#Output-Size-of-Convolution\" data-toc-modified-id=\"Output-Size-of-Convolution-2.1.4\"><span class=\"toc-item-num\">2.1.4&nbsp;&nbsp;</span>Output Size of Convolution</a></span></li></ul></li><li><span><a href=\"#Activation-functions-or-Non-Linearity-(ReLU)\" data-toc-modified-id=\"Activation-functions-or-Non-Linearity-(ReLU)-2.2\"><span class=\"toc-item-num\">2.2&nbsp;&nbsp;</span>Activation functions or Non Linearity (ReLU)</a></span></li><li><span><a href=\"#Pooling-layer\" data-toc-modified-id=\"Pooling-layer-2.3\"><span class=\"toc-item-num\">2.3&nbsp;&nbsp;</span>Pooling layer</a></span></li><li><span><a href=\"#Fully-connected-layers\" data-toc-modified-id=\"Fully-connected-layers-2.4\"><span class=\"toc-item-num\">2.4&nbsp;&nbsp;</span>Fully connected layers</a></span></li></ul></li><li><span><a href=\"#PyTorch:-Training-your-first-Convolutional-Neural-Network-(CNN)-to-classify-images\" data-toc-modified-id=\"PyTorch:-Training-your-first-Convolutional-Neural-Network-(CNN)-to-classify-images-3\"><span class=\"toc-item-num\">3&nbsp;&nbsp;</span>PyTorch: Training your first Convolutional Neural Network (CNN) to classify images</a></span><ul class=\"toc-item\"><li><span><a href=\"#Importing-the-Libraries\" data-toc-modified-id=\"Importing-the-Libraries-3.1\"><span class=\"toc-item-num\">3.1&nbsp;&nbsp;</span>Importing the Libraries</a></span></li><li><span><a href=\"#Load-and-transform-datasets\" data-toc-modified-id=\"Load-and-transform-datasets-3.2\"><span class=\"toc-item-num\">3.2&nbsp;&nbsp;</span>Load and transform datasets</a></span></li><li><span><a href=\"#Exploring-Images\" data-toc-modified-id=\"Exploring-Images-3.3\"><span class=\"toc-item-num\">3.3&nbsp;&nbsp;</span>Exploring Images</a></span></li><li><span><a href=\"#Define-NetWork\" data-toc-modified-id=\"Define-NetWork-3.4\"><span class=\"toc-item-num\">3.4&nbsp;&nbsp;</span>Define NetWork</a></span></li><li><span><a href=\"#Optimizer-&amp;-Loss-Function\" data-toc-modified-id=\"Optimizer-&amp;-Loss-Function-3.5\"><span class=\"toc-item-num\">3.5&nbsp;&nbsp;</span>Optimizer &amp; Loss Function</a></span></li><li><span><a href=\"#Train-the-Model\" data-toc-modified-id=\"Train-the-Model-3.6\"><span class=\"toc-item-num\">3.6&nbsp;&nbsp;</span>Train the Model</a></span><ul class=\"toc-item\"><li><span><a href=\"#Train-the-Model\" data-toc-modified-id=\"Train-the-Model-3.6.1\"><span class=\"toc-item-num\">3.6.1&nbsp;&nbsp;</span>Train the Model</a></span></li><li><span><a href=\"#Check-the-GPU-usage\" data-toc-modified-id=\"Check-the-GPU-usage-3.6.2\"><span class=\"toc-item-num\">3.6.2&nbsp;&nbsp;</span>Check the GPU usage</a></span></li></ul></li><li><span><a href=\"#Loss-and-Accuracy-Plots\" data-toc-modified-id=\"Loss-and-Accuracy-Plots-3.7\"><span class=\"toc-item-num\">3.7&nbsp;&nbsp;</span>Loss and Accuracy Plots</a></span></li><li><span><a href=\"#Load-and-save-the-model\" data-toc-modified-id=\"Load-and-save-the-model-3.8\"><span class=\"toc-item-num\">3.8&nbsp;&nbsp;</span>Load and save the model</a></span></li><li><span><a href=\"#Sample-Test-Predictions\" data-toc-modified-id=\"Sample-Test-Predictions-3.9\"><span class=\"toc-item-num\">3.9&nbsp;&nbsp;</span>Sample Test Predictions</a></span></li><li><span><a href=\"#AlexNet(2012)\" data-toc-modified-id=\"AlexNet(2012)-3.10\"><span class=\"toc-item-num\">3.10&nbsp;&nbsp;</span>AlexNet(2012)</a></span></li></ul></li><li><span><a href=\"#VGGNet(2014)\" data-toc-modified-id=\"VGGNet(2014)-4\"><span class=\"toc-item-num\">4&nbsp;&nbsp;</span>VGGNet(2014)</a></span></li><li><span><a href=\"#Inception-Net(2014)\" data-toc-modified-id=\"Inception-Net(2014)-5\"><span class=\"toc-item-num\">5&nbsp;&nbsp;</span>Inception Net(2014)</a></span></li><li><span><a href=\"#ResNet(2015)\" data-toc-modified-id=\"ResNet(2015)-6\"><span class=\"toc-item-num\">6&nbsp;&nbsp;</span>ResNet(2015)</a></span></li><li><span><a href=\"#Summary\" data-toc-modified-id=\"Summary-7\"><span class=\"toc-item-num\">7&nbsp;&nbsp;</span>Summary</a></span></li><li><span><a href=\"#LAB-Assignment\" data-toc-modified-id=\"LAB-Assignment-8\"><span class=\"toc-item-num\">8&nbsp;&nbsp;</span>LAB Assignment</a></span><ul class=\"toc-item\"><li><span><a href=\"#Exercise-1--Image-Classifier(100-points-)\" data-toc-modified-id=\"Exercise-1--Image-Classifier(100-points-)-8.1\"><span class=\"toc-item-num\">8.1&nbsp;&nbsp;</span>Exercise 1  Image Classifier(100 points )</a></span></li><li><span><a href=\"#Exercise-2--Questions-(10-points-)\" data-toc-modified-id=\"Exercise-2--Questions-(10-points-)-8.2\"><span class=\"toc-item-num\">8.2&nbsp;&nbsp;</span>Exercise 2  Questions (10 points )</a></span></li></ul></li></ul></div>"
   ]
  },
  {
   "cell_type": "markdown",
   "metadata": {},
   "source": [
    "# LAB8 tutorial for Machine Learning <br > Convolutional Neural Network\n",
    "> The document description are designed by JIa Yanhong in 2022. Oct. 28th\n",
    "------"
   ]
  },
  {
   "cell_type": "markdown",
   "metadata": {},
   "source": [
    "## Objective\n",
    "\n",
    "In this tutorial, we discuss building a simple convolutional neural network(CNN) with PyTorch to classify images into different classes. By the end of this tutorial, you become familiar with PyTorch, CNNs, padding, stride, max pooling and you are able to build your own CNN model for image classification.\n",
    "\n",
    "\n",
    "- Familiar with the main operation and training process of convolutional neural network\n",
    "- Learn to build CNN model for image classification\n",
    "- Learning how to save and load models\n",
    "- Understanding various architectures of Convolutional Networks\n",
    "- Complete the LAB assignment.\n",
    "------"
   ]
  },
  {
   "cell_type": "markdown",
   "metadata": {},
   "source": [
    "## Convolutional Neural Network\n",
    "\n",
    "In the beginning Neural Networks we used for all sorts of basic tasks like Regression and Classification.  As the quantity of data increased the parameters of `ANN` also increased.  With advancement in technology, Classification tasks were also required for `image` and `text` files ，but on using `ANN`, it was found that the computational powers sky-rocketed as the parameters increased to 100 thousands in numbers even for a small 8-bit image.  Therefore, there was a need for an another type of Neural Network .\n",
    "\n",
    "<font color=\"blue\" size=4 face=\"HEI\">Let's see the problems ourselves !</font>\n",
    "\n",
    "<div  align=\"center\"> <img src=\"images/image-20221024210617842.png\"  style=\"zoom:80%\" align=center /></div>\n",
    "\n",
    "\n",
    "\n",
    "Suppose we want to apply classifiction problems to a 32-bit image.  A RGB image would 32* 32*3= 3072 pixels.  Therefore, it will require a neural network with a input layer of 3072 Neurons. \n",
    "<div  align=\"center\"> <img src=\"images/image02-16666170872581.png\"  style=\"zoom:80%\" align=center /></div>\n",
    "\n",
    "<font face=\"HEI\" color=green>A huge amount of computational power is required for this task!!</font>\n",
    "\n",
    "<div  align=\"center\"> <img src=\"images/image-20221028220135627.png\"  style=\"zoom:80%\" align=center /></div>\n",
    "\n",
    "An image is just a matrix of pixels. Instead of flattening the image, what CNN does is, it uses Kernels/Filter to read the patterns in the image. \n",
    "\n",
    "A Kernel is a small matrix where each cell has certain value with which the pixel value is multiplied and the convolved feature is extracted. Below is the visual representation of this !\n",
    "\n",
    "<div  align=\"center\"> <img src=\"images/convolution.gif\"  alt=\"convolution\" style=\"zoom:80%\" align=center /></div>\n",
    "\n",
    "CNN was fist introduced by <big>Yann LeCun</big> (current Vice President of Facebook AI) to classify handwritten digits based on their 20x20 pixel images.\n",
    "\n",
    "CNN is mainly used to work with visual data and is mostly used in Robotics and Computer Vision.\n",
    "\n",
    "\n",
    "\n",
    "There are four main operations in a CNN:  \n",
    "\n",
    "- Convolution  \n",
    "  \n",
    "- Non Linearity (ReLU)\n",
    "\n",
    "- Pooling or Sub Sampling\n",
    "  \n",
    "\n",
    "- Classification (Fully Connected Layer)\n"
   ]
  },
  {
   "cell_type": "markdown",
   "metadata": {},
   "source": [
    "### Convolution Layer\n",
    "How convolution kernels work?\n",
    "<div  align=\"center\"> <img src=\"images/20190516152403576.gif\"  alt=\"convolution\" style=\"zoom:80%\" align=center /></div>\n",
    "\n",
    "The working principle of multi-channel multi-convolution kernel in convolution:\n",
    "\n",
    "<div  align=\"center\"> <img src=\"images/20190516152427819.gif\"  alt=\"convolution\" style=\"zoom:60%\" align=center /></div>\n",
    "\n",
    "Three hyperparameters control the size of the output : **depth(out_channels), stride,** and **padding**. \n",
    "#### Depth\n",
    "Depth is the number of kernel, which affects the output channel.\n",
    "<div  align=\"center\"> <img src=\"images/image-20221028220930328.png\"  alt=\"convolution\" style=\"zoom:60%\" align=center /></div>\n",
    "\n",
    "#### Padding\n",
    "While applying convolutions we will not obtain the output dimensions the same as input we will lose data over borders so we append a border of zeros and recalculate the convolution covering all the input values.\n",
    "<div  align=\"center\"> <img src=\"images/99433dnn4.gif\"  style=\"zoom:80%\" align=center /></div>"
   ]
  },
  {
   "cell_type": "markdown",
   "metadata": {},
   "source": [
    "#### Stride\n",
    "we must specify the stride with which we slide the filter.  When the stride is 1 then we move the filters one pixel at a time.  When the stride is 2 then the filters jump 2 pixels at a time as we slide them around.  \n",
    "<div  align=\"center\"> \n",
    "    <img src=\"images/20200312214447921.gif\"  style=\"zoom:85%\" align=center />\n",
    "    <img src=\"images/92373dnn5.gif\"  style=\"zoom:100%\" align=center />\n",
    "    <br>\n",
    "   stride 1  &emsp; &emsp; &emsp;&emsp; &emsp; &emsp; &emsp; &emsp; &emsp; &emsp;stride 2   \n",
    "</div>\n",
    "\n",
    "\n",
    "#### Output Size of Convolution\n",
    "We have the following input:\n",
    "\n",
    "- An image of dimensions  $W_{in} \\times H_{in}$.\n",
    "\n",
    "- A filter of dimensions $K \\times K$\n",
    "\n",
    "- Stride $S$ and padding $P$.\n",
    "\n",
    "The output  will have the following dimensions:\n",
    "\n",
    "+ $\\mathbf{W_{out} = \\frac{W_{in} - K + 2P}{S} + 1}$\n",
    "+ $\\mathbf{H_{out} = \\frac{H_{in} - K + 2P}{S} + 1}$\n",
    "\n"
   ]
  },
  {
   "cell_type": "markdown",
   "metadata": {},
   "source": [
    "### Activation functions or Non Linearity (ReLU)\n",
    "The activation function is a node that is put at the end of or in between Neural Networks. **They help to decide if the neuron would fire or not**. We have different types of activation functions , but for this tutoral, my focus will be on **Rectified Linear Unit (ReLU)**\n",
    "<div  align=\"center\"> <img src=\"images/54331dnn7.png\"  style=\"zoom:80%\" align=center /></div>"
   ]
  },
  {
   "cell_type": "markdown",
   "metadata": {},
   "source": [
    "### Pooling layer\n",
    "Pooling layers, also known as downsampling, conducts dimensionality reduction, reducing the number of parameters in the input. Similar to the convolutional layer, the pooling operation sweeps a filter across the entire input, but the difference is that this filter does not have any weights.\n",
    "\n",
    "There are two main types of pooling:\n",
    "+ Max Pooling\n",
    "<div  align=\"center\"> <img src=\"images/Screenshot-2019-07-21-at-2.57.13-AM.png\"  style=\"zoom:50%\" align=center /></div>\n",
    "\n",
    "+ Average pooling\n",
    "  \n",
    "<div  align=\"center\"> <img src=\"images/Screenshot-2019-07-21-at-3.05.56-AM.png\"  style=\"zoom:50%\" align=center /></div>"
   ]
  },
  {
   "cell_type": "markdown",
   "metadata": {},
   "source": [
    "### Fully connected layers\n",
    "\n",
    "Finally, what we usually do is flatten the feature map into feature vectors and then feed it into the logistic regression unit or softmax unit.\n",
    "<div  align=\"center\"> \n",
    "    <img src=\"images/59467dnn9.jpg\"  alt=\"LeNet-5\" style=\"zoom:80%\" align=center />\n",
    "    <br>\n",
    "    LeNet5\n",
    "</div>\n"
   ]
  },
  {
   "cell_type": "markdown",
   "metadata": {},
   "source": [
    "## PyTorch: Training your first Convolutional Neural Network (CNN) to classify images\n",
    "A typical training procedure is as follows:\n",
    "\n",
    "- Load and transform training and test datasets \n",
    "- Define a neural network (with learnable parameters, also called weights)\n",
    "- Define an optimizer and loss criterion\n",
    "  \n",
    "- Train the network on the training data\n",
    "  - Process input through the network Loop over our epochs and batches\n",
    "  - Compute the loss (how far is the output from being correct)\n",
    "  - Gradient reset\n",
    "  - Propagate gradients back into network's parameters \n",
    "  - Update weights of network, a simple rule: \n",
    "      $$\n",
    "      \\begin{align}\n",
    "      w = w + \\Delta w\\\\\n",
    "      \\Delta w = -\\eta\\frac{\\partial{E}}{\\partial w} \n",
    "      \\end{align}\n",
    "      $$\n",
    "      $w$: weight\n",
    "\n",
    "      $\\eta$: learning rate\n",
    "\n",
    "      $\\frac{\\partial{E}}{\\partial w}$: gradient\n",
    "\n",
    "- Test the network on the test data\n",
    "- Save Model\n",
    "  \n",
    "\n",
    "\n",
    "\n",
    "\n",
    "As you’ll see, training a CNN on an image dataset isn’t all that different from training a basic multi-layer perceptron (MLP) on numerical data. \n",
    "\n",
    "Next our goal is to quickly train a CNN(convolutional neural network) model going through all the trainning procedure. The idea here isn’t necessarily to introduce CNN or ML, but it is to get used to doing things in PyTorch. \n",
    "\n",
    "We use the [MNIST dataset](http://yann.lecun.com/exdb/mnist/), which is known as the \"HelloWorld\" of  neural networks."
   ]
  },
  {
   "cell_type": "markdown",
   "metadata": {},
   "source": [
    "### Importing the Libraries\n",
    "\n",
    "Before loading the data,, let us  define some training hyperparameters. These are not parameters in the classical sense, but they do impact the solution that we end up at. "
   ]
  },
  {
   "cell_type": "code",
   "execution_count": 28,
   "metadata": {},
   "outputs": [],
   "source": [
    "# import os\n",
    "# os.environ[\"KMP_DUPLICATE_LIB_OK\"]=\"TRUE\"\n",
    "\n",
    "import warnings\n",
    "warnings.filterwarnings(\"ignore\") \n",
    "# CUSTOMARY IMPORTS\n",
    "import torch\n",
    "import torchvision\n",
    "from torchvision import transforms\n",
    "import matplotlib.pyplot as plt\n",
    "import numpy as np\n",
    "\n",
    "%matplotlib inline\n",
    "\n",
    "# TRAINING HYPERPARAMETERS: \n",
    "n_epochs = 5           # How many passes through the training data  \n",
    "batch_size = 64  # Training batch size usually in [1,256]\n",
    "\n",
    "learning_rate = 0.01   # Learning rate for optimizer like SGD usually in [0.001, 0.1]\n",
    "\n",
    "random_seed = 1  \n",
    "\n",
    "torch.manual_seed(random_seed)\n",
    "\n",
    "device = torch.device(\"cuda:0\" if torch.cuda.is_available() else \"cpu\")"
   ]
  },
  {
   "cell_type": "markdown",
   "metadata": {},
   "source": [
    "### Load and transform datasets\n",
    "In PyTorch we have a few concepts that can help ease the data setup process\n",
    "\n",
    "1. **Dataset**: each dataset (like MNIST) will have a class which implements __getitem__() which returns an example (tuple)\n",
    "2. **DataLoader**: takes a Dataset as input and outputs a generator or iterable object. One can use next() on a DataLoader object to get the next example from the dataset. The DataLoader can be setup to return a batch_size number of examples.\n",
    "3. **Transforms**: `Transforms` can be used to <big>augment</big> the dataset by applying transformations such as `scaling`, `rotations`, `masking`, etc.  \n",
    "\n",
    "\n",
    "Some basic transforms:\n",
    "\n",
    "- `transforms.ToTensor()`: convers `PIL/Numpy` to Tensor format. It converts a PIL Image or `numpy.ndarray` with range `[0,255]` and shape `(H x W x C)` to a `torch.FloatTensor` of shape `(C x H x W)` and range `[0.0, 1.0]`. So this operation also rescales your data. It’s not a simple \"ndarray –> tensor\" operation.\n",
    "- `transforms.Normalize()`: normalises each channel of the input Tensor. The formula is this: `input[channel] = (input[channel] - mean[channel]) / std[channel]`. You have to pass in two parameters: a sequence of means for each channel, and a sequence of standard deviations for each channel. In practice you see this called as `transforms.Normalize((0.5,0.5,0.5), (0.5,0.5,0.5))` for the CIFAR10 example, rather than `transforms.Normalize((127.5,127.5,127.5), (some_std_here))` because it is put after `transforms.ToTensor()` and that rescales to 0-1.\n",
    "- `transforms.Compose()`: the function that lets you chain together different transforms.\n",
    "\n",
    "```python\n",
    "from torchvision import transforms\n",
    "transforms = transforms.Compose([\n",
    "    transforms.ToTensor(),\n",
    "    transforms.Normalize((0.5,0.5,0.5), (0.5,0.5,0.5))\n",
    "])\n",
    "```\n"
   ]
  },
  {
   "cell_type": "markdown",
   "metadata": {},
   "source": [
    "For MNIST, the torchvision package has already implemented a Dataset called MNIST, where it will download the data for us automatically, if not already downloaded. \n",
    "\n",
    "Since the MNIST data is split up into different files, we also need to specify whether we wish to setup a train set DataLoader or a test set DataLoader.   \n",
    "\n",
    "  \n"
   ]
  },
  {
   "cell_type": "code",
   "execution_count": 29,
   "metadata": {},
   "outputs": [],
   "source": [
    "import torchvision\n",
    "from torchvision import transforms\n",
    "#Loading the dataset and preprocessing\n",
    "train_dataset = torchvision.datasets.MNIST(root = './datasets/',\n",
    "                                           train = True,\n",
    "                                           transform = transforms.Compose([\n",
    "                                                  transforms.Resize((32,32)),\n",
    "                                                  transforms.ToTensor(),\n",
    "                                                  transforms.Normalize(mean = (0.1307,), std = (0.3081,))]),\n",
    "                                           download = True)\n",
    "\n",
    "\n",
    "test_dataset = torchvision.datasets.MNIST(root = './datasets/',\n",
    "                                          train = False,\n",
    "                                          transform = transforms.Compose([\n",
    "                                                  transforms.Resize((32,32)),\n",
    "                                                  transforms.ToTensor(),\n",
    "                                                  transforms.Normalize(mean = (0.1325,), std = (0.3105,))]),\n",
    "                                          download=True)\n",
    "\n",
    "\n",
    "train_loader = torch.utils.data.DataLoader(dataset = train_dataset,\n",
    "                                           batch_size = batch_size,\n",
    "                                           shuffle = True)\n",
    "\n",
    "\n",
    "test_loader = torch.utils.data.DataLoader(dataset = test_dataset,\n",
    "                                           batch_size = batch_size,\n",
    "                                           shuffle = True)\n",
    "\n"
   ]
  },
  {
   "cell_type": "markdown",
   "metadata": {},
   "source": [
    "Let's understand the code:\n",
    "\n",
    "- Firstly, the MNIST data can't be used as it is for the LeNet5 architecture. The LeNet5 architecture accepts the input to be 32x32 and the MNIST images are 28x28. We can fix this by resizing the images, normalizing them using the pre-calculated mean and standard deviation (available online), and finally storing them as tensors.\n",
    "- We set `download=True` incase the data is not already downloaded.\n",
    "- Next, we make use of data loaders. This might not affect the performance in the case of a small dataset like MNIST, but it can really impede the performance in case of large datasets and is generally considered a good practice. Data loaders allow us to iterate through the data in batches, and the data is loaded while iterating and not at once in start.\n",
    "- We specify the batch size and shuffle the dataset when loading so that every batch has some variance in the types of labels it has. This will increase the efficacy of our eventual model."
   ]
  },
  {
   "cell_type": "markdown",
   "metadata": {},
   "source": [
    "### Exploring Images"
   ]
  },
  {
   "cell_type": "code",
   "execution_count": 30,
   "metadata": {},
   "outputs": [
    {
     "data": {
      "image/png": "[encoded data removed]",
      "text/plain": [
       "<Figure size 600x480 with 9 Axes>"
      ]
     },
     "metadata": {},
     "output_type": "display_data"
    }
   ],
   "source": [
    "# The enumerate() method adds a counter to an iterable and returns an enumerate object\n",
    "examples = enumerate(test_loader)\n",
    "batch_idx, (example_X, example_y) = next(examples)\n",
    "\n",
    "# VISUALIZE SOME EXAMPLES\n",
    "fig=plt.figure(figsize=(10, 8), dpi=60)\n",
    "for i in range(9):\n",
    "  plt.subplot(3,3,i+1)\n",
    "  plt.tight_layout()\n",
    "  plt.imshow(example_X[i][0], cmap='gray')\n",
    "  plt.title(\"Ground Truth: {}\".format(example_y[i]))\n",
    "  plt.xticks([])\n",
    "  plt.yticks([])"
   ]
  },
  {
   "cell_type": "markdown",
   "metadata": {},
   "source": [
    "### Define NetWork"
   ]
  },
  {
   "cell_type": "markdown",
   "metadata": {},
   "source": [
    "All PyTorch models should inherit from the `nn. Module` (for automatic gradients and such).  Building models in PyTorch is like <big>Lego</big>, we take some layers or operations like `Conv2d`, `Linear`, and then compose them in a function called `forward` (which is required to be defined).  The `forward` function (also called prediction) takes the input and produces a output after processing through the model.  \n",
    "\n",
    "Let's use the following network to classify digital images.\n",
    "<div  align=\"center\"> <img src=\"images\\figure1-16669638154481.png\"  alt=\"LeNet-5\" style=\"zoom:60%\" align=center /></div>\n",
    "Actually, this simple network is called LeNet-5.\n",
    "\n",
    "As the name indicates, LeNet5 has 5 layers with two convolutional and three fully connected layers. Let's start with the input. LeNet5 accepts as input a greyscale image of 32x32, indicating that the architecture is not suitable for RGB images (multiple channels). So the input image should contain just one channel. After this, we start with our convolutional layers\n",
    "\n",
    "The first convolutional layer has a filter size of  5x5 with 6 such filters. This will reduce the width and height of the image while increasing the depth (number of channels). The output would be 28x28x6. After this, pooling is applied to decrease the feature map by half, i.e, 14x14x6. Same filter size (5x5) with 16 filters is now applied to the output followed by a pooling layer. This reduces the output feature map to 5x5x16.\n",
    "\n",
    "After this, a convolutional layer of size 5x5 with 120 filters is applied to flatten the feature map to 120 values. Then comes the first fully connected layer, with 84 neurons. Finally, we have the output layer which has 10 output neurons, since the MNIST data have 10 classes for each of the represented 10 numerical digits.\n"
   ]
  },
  {
   "cell_type": "code",
   "execution_count": 31,
   "metadata": {},
   "outputs": [
    {
     "name": "stdout",
     "output_type": "stream",
     "text": [
      "Net(\n",
      "  (conv1): Conv2d(1, 6, kernel_size=(5, 5), stride=(1, 1))\n",
      "  (conv2): Conv2d(6, 16, kernel_size=(5, 5), stride=(1, 1))\n",
      "  (fc1): Linear(in_features=400, out_features=120, bias=True)\n",
      "  (fc2): Linear(in_features=120, out_features=84, bias=True)\n",
      "  (fc3): Linear(in_features=84, out_features=10, bias=True)\n",
      ")\n"
     ]
    }
   ],
   "source": [
    "import warnings\n",
    "warnings.filterwarnings(\"ignore\") \n",
    "\n",
    "import torch.nn as nn\n",
    "import torch.nn.functional as F\n",
    "import torch.optim as optim\n",
    "\n",
    "\n",
    "class Net(nn.Module):\n",
    "    def __init__(self):\n",
    "        super(Net, self).__init__()\n",
    "        self.conv1 = nn.Conv2d(in_channels = 1,out_channels = 6,kernel_size = 5,stride = 1,padding = 0)\n",
    "        self.conv2 = nn.Conv2d(in_channels = 6,out_channels = 16,kernel_size = 5,stride = 1,padding = 0)\n",
    "        \n",
    "        self.fc1 = nn.Linear(in_features = 5 * 5 * 16,out_features = 120)\n",
    "        self.fc2 = nn.Linear(in_features = 120,out_features = 84)\n",
    "        self.fc3 = nn.Linear(in_features = 84,out_features = 10)           # number of classes/digits = 10\n",
    "\n",
    "    def forward(self, x):\n",
    "        x = F.max_pool2d(F.relu(self.conv1(x)), kernel_size = 2,stride = 2)\n",
    "        x = F.max_pool2d(F.relu(self.conv2(x)), kernel_size = 2,stride = 2)\n",
    "        \n",
    "        x = x.reshape(x.size(0), -1)     # reshape\n",
    "\n",
    "        x = F.relu(self.fc1(x))\n",
    "        x = F.relu(self.fc2(x))\n",
    "        #x = F.dropout(x, training=self.training)  # Apply dropout only during training\n",
    "        x = self.fc3(x)\n",
    "        return x\n",
    "\n",
    "\n",
    "net = Net().to(device)\n",
    "print(net)"
   ]
  },
  {
   "cell_type": "markdown",
   "metadata": {},
   "source": [
    "The `torch.nn.functional` allows applying activation functions and dropout conveniently. We use the `nn.module` for layers that hold parameters and use the `functional API` for other operations like activations, softmax, etc."
   ]
  },
  {
   "cell_type": "code",
   "execution_count": 32,
   "metadata": {},
   "outputs": [
    {
     "name": "stdout",
     "output_type": "stream",
     "text": [
      "Net(\n",
      "  (conv_pool1): Sequential(\n",
      "    (0): Conv2d(1, 6, kernel_size=(5, 5), stride=(1, 1))\n",
      "    (1): ReLU()\n",
      "    (2): MaxPool2d(kernel_size=2, stride=2, padding=0, dilation=1, ceil_mode=False)\n",
      "  )\n",
      "  (conv_pool2): Sequential(\n",
      "    (0): Conv2d(6, 16, kernel_size=(5, 5), stride=(1, 1))\n",
      "    (1): ReLU()\n",
      "    (2): MaxPool2d(kernel_size=2, stride=2, padding=0, dilation=1, ceil_mode=False)\n",
      "  )\n",
      "  (fc1): Sequential(\n",
      "    (0): Linear(in_features=400, out_features=120, bias=True)\n",
      "    (1): ReLU()\n",
      "  )\n",
      "  (fc2): Sequential(\n",
      "    (0): Linear(in_features=120, out_features=84, bias=True)\n",
      "    (1): ReLU()\n",
      "  )\n",
      "  (out): Sequential(\n",
      "    (0): Linear(in_features=84, out_features=10, bias=True)\n",
      "  )\n",
      ")\n"
     ]
    }
   ],
   "source": [
    "import warnings\n",
    "warnings.filterwarnings(\"ignore\") \n",
    "\n",
    "import torch\n",
    "import torch.nn as nn\n",
    "import torch.nn.functional as F\n",
    "\n",
    "class Net(nn.Module):\n",
    "\n",
    "    def __init__(self):\n",
    "        super(Net, self).__init__()\n",
    "        # Layer 1  which has six kernels of size 5x5 with padding 0 and stride 1    \n",
    "        # input (1, 28, 28) padding to(1,32,32) \n",
    "        # output(6, 28, 28)   \n",
    "        self.conv_pool1 = nn.Sequential(\n",
    "            nn.Conv2d(in_channels=1,out_channels=6,kernel_size=(5, 5),padding=0),  \n",
    "            #nn.BatchNorm2d(6),       \n",
    "            nn.ReLU(),                     \n",
    "            nn.MaxPool2d(2, stride=2)                 # output(6, 14, 14)\n",
    "        )\n",
    "       \n",
    "\n",
    "        self.conv_pool2 = nn.Sequential(\n",
    "            nn.Conv2d(6, 16, kernel_size=5, stride=1, padding=0),  # output(16, 10, 10)\n",
    "            #nn.BatchNorm2d(16),\n",
    "            nn.ReLU(),\n",
    "            nn.MaxPool2d(kernel_size = 2, stride = 2)) # output(16, 5, 5)\n",
    "        \n",
    "        # the fully connected layer\n",
    "        self.fc1 = nn.Sequential(                  \n",
    "            nn.Linear(16*5*5, 120),\n",
    "            nn.ReLU()\n",
    "        )\n",
    "\n",
    "     \n",
    "        self.fc2 = nn.Sequential(\n",
    "            nn.Linear(120, 84),\n",
    "            nn.ReLU()\n",
    "        )\n",
    "        # the output layer\n",
    "        self.out = nn.Sequential(\n",
    "            nn.Linear(84, 10),\n",
    "\n",
    "        )\n",
    "\n",
    "    # 前向传播\n",
    "    def forward(self, x):\n",
    "\n",
    "        x = self.conv_pool1(x)\n",
    "        x = self.conv_pool2(x)\n",
    "        x = x.view(x.size(0), -1)       # resize to 2-dims(batch_size, 16*5*5) 展平成1维\n",
    "        x = self.fc1(x)\n",
    "        x = self.fc2(x)\n",
    "        x = self.out(x)\n",
    "        return x\n",
    "\n",
    "\n",
    "net = Net().to(device)\n",
    "print(net)"
   ]
  },
  {
   "cell_type": "markdown",
   "metadata": {},
   "source": [
    "- [`Conv2d`](https://pytorch.org/docs/stable/generated/torch.nn.Conv2d.html#torch.nn.Conv2d): PyTorch’s implementation of convolutional layers\n",
    "- [`Linear`](https://pytorch.org/docs/stable/generated/torch.nn.Linear.html#torch.nn.Linear): Fully connected layers\n",
    "- [`MaxPool2d`](https://pytorch.org/docs/stable/generated/torch.nn.MaxPool2d.html#torch.nn.MaxPool2d): Applies 2D max-pooling to reduce the spatial dimensions of the input volume\n",
    "- [`ReLU`](https://pytorch.org/docs/stable/generated/torch.nn.ReLU.html#torch.nn.ReLU): Our ReLU activation function\n",
    "- [`Softmax`](https://pytorch.org/docs/stable/generated/torch.nn.Softmax.html#torch.nn.Softmax): Used when building our softmax classifier to return the predicted probabilities of each class\n",
    "- [`flatten`](https://pytorch.org/docs/stable/generated/torch.nn.Flatten.html#torch.nn.Flatten): Flattens the output of a multi-dimensional volume (e.g., a CONV or POOL layer) such that we can apply fully connected layers to it."
   ]
  },
  {
   "cell_type": "markdown",
   "metadata": {},
   "source": [
    "The `torch.nn.Sequential` function automatically combines all layers into a single model, which makes it easier for beginners."
   ]
  },
  {
   "cell_type": "markdown",
   "metadata": {},
   "source": [
    "For a pytorch network, we just define `forward` function, and the `backward` function (where gradients are computed) will be automatically defined using `autograd` of pytorch. \n",
    "\n",
    "+ Finds all parameters of model: `nn.Module.parameters()` "
   ]
  },
  {
   "cell_type": "code",
   "execution_count": 33,
   "metadata": {},
   "outputs": [
    {
     "name": "stdout",
     "output_type": "stream",
     "text": [
      "10\n",
      "torch.Size([6, 1, 5, 5])\n",
      "torch.Size([6])\n"
     ]
    }
   ],
   "source": [
    "params = list(net.parameters())\n",
    "print(len(params)) # contains weights and bias\n",
    "print(params[0].size()) # conv1's weight\n",
    "print(params[1].size()) # conv1's bias"
   ]
  },
  {
   "cell_type": "markdown",
   "metadata": {},
   "source": [
    "+ Process input through model:`forward`\n",
    "\n",
    " Then, we can input a random $32\\times32$ data . After forward propagation, in most cases, you should **clear the gradient buffers** of all parameters. "
   ]
  },
  {
   "cell_type": "code",
   "execution_count": 34,
   "metadata": {},
   "outputs": [
    {
     "name": "stdout",
     "output_type": "stream",
     "text": [
      "tensor([[ 0.0028,  0.0303, -0.0733, -0.0916, -0.1186,  0.0543,  0.1836, -0.0444,\n",
      "         -0.0016,  0.0131]], grad_fn=<AddmmBackward>)\n"
     ]
    }
   ],
   "source": [
    "test = torch.randn((1, 1, 32, 32)).to(device)\n",
    "pred = net(test) # forward\n",
    "print(pred)\n"
   ]
  },
  {
   "cell_type": "markdown",
   "metadata": {},
   "source": [
    "One of the challenges in model specification with CNNs and Linear or Fully-Connected layers or MLP is keeping track of the image sizes as it goes through the operations. It is important to understand that the tensor passed to the model (during training or prediction) is of dimension (BatchSize, NumChannels, H, W) and when we refer to image size we are talking about (H,W). It is common to refer to channels as filters or also kernels."
   ]
  },
  {
   "cell_type": "markdown",
   "metadata": {},
   "source": [
    "### Optimizer & Loss Function\n"
   ]
  },
  {
   "cell_type": "code",
   "execution_count": 35,
   "metadata": {},
   "outputs": [],
   "source": [
    "criterion = torch.nn.CrossEntropyLoss()\n",
    "#optimizer = torch.optim.Adam(net.parameters())\n",
    "#optimizer = optim.Adam(net.parameters(), lr=0.003)\n",
    "optimizer = optim.SGD(net.parameters(), lr=learning_rate, momentum=0.5)"
   ]
  },
  {
   "cell_type": "markdown",
   "metadata": {},
   "source": [
    "### Train the Model\n",
    "#### Train the Model"
   ]
  },
  {
   "cell_type": "code",
   "execution_count": 36,
   "metadata": {},
   "outputs": [
    {
     "name": "stderr",
     "output_type": "stream",
     "text": [
      "[1/5] Loss: 2.3054, Acc: 0.0312:   2%|▏         | 16/938 [00:00<00:18, 49.81step/s]"
     ]
    },
    {
     "name": "stderr",
     "output_type": "stream",
     "text": [
      "[1/5] Loss: 0.3288, Acc: 0.9375, Test Loss: 0.1660, Test Acc: 0.9483: 100%|██████████| 938/938 [00:19<00:00, 48.79step/s]\n",
      "[2/5] Loss: 0.0057, Acc: 0.9062, Test Loss: 0.0860, Test Acc: 0.9728: 100%|██████████| 938/938 [00:18<00:00, 49.37step/s]\n",
      "[3/5] Loss: 0.0021, Acc: 0.9688, Test Loss: 0.0523, Test Acc: 0.9833: 100%|██████████| 938/938 [00:19<00:00, 48.71step/s]\n",
      "[4/5] Loss: 0.2750, Acc: 1.0000, Test Loss: 0.0516, Test Acc: 0.9833: 100%|██████████| 938/938 [00:19<00:00, 48.28step/s]\n",
      "[5/5] Loss: 0.0182, Acc: 1.0000, Test Loss: 0.0462, Test Acc: 0.9842: 100%|██████████| 938/938 [00:19<00:00, 47.46step/s]\n"
     ]
    }
   ],
   "source": [
    "from tqdm import tqdm\n",
    "\n",
    "#存储训练过程\n",
    "history = {'Train Loss':[],'Test Loss':[],'Test Accuracy':[]}\n",
    "\n",
    "for epoch in range(1, n_epochs + 1):\n",
    "    #构建tqdm进度条\n",
    "    processBar = tqdm(train_loader,unit = 'step')\n",
    "    #打开网络的训练模式\n",
    "    net.train(True)\n",
    "    #开始对训练集的DataLoader进行迭代\n",
    "    totalTrainLoss = 0.0\n",
    "   \n",
    "    for step,(trainImgs,labels) in enumerate(processBar):\n",
    "        \n",
    "        #将图像和标签传输进device中\n",
    "        trainImgs = trainImgs.to(device)\n",
    "        labels = labels.to(device)\n",
    "        \n",
    "        #清空模型的梯度\n",
    "        optimizer.zero_grad()\n",
    "        \n",
    "        #对模型进行前向推理\n",
    "        outputs = net(trainImgs)\n",
    "        \n",
    "        #计算本轮推理的Loss值\n",
    "        loss = criterion(outputs,labels)\n",
    "        #计算本轮推理的准确率\n",
    "        predictions = torch.argmax(outputs, dim = 1)\n",
    "        accuracy = torch.sum(predictions == labels)/float(labels.shape[0])\n",
    "        \n",
    "        #进行反向传播求出模型参数的梯度\n",
    "        loss.backward()\n",
    "        #使用迭代器更新模型权重\n",
    "        optimizer.step()\n",
    "\n",
    "        #将本step结果进行可视化处理\n",
    "        processBar.set_description(\"[%d/%d] Loss: %.4f, Acc: %.4f\" % \n",
    "                                    (epoch,n_epochs,loss.item(),accuracy.item()))\n",
    "\n",
    "        totalTrainLoss+= loss\n",
    "        \n",
    "        if step == len(processBar)-1:\n",
    "            correct,totalLoss = 0,0\n",
    "            totalSize = 0\n",
    "            net.train(False)\n",
    "            for testImgs,labels in test_loader:\n",
    "                testImgs = testImgs.to(device)\n",
    "                labels = labels.to(device)\n",
    "                outputs = net(testImgs)\n",
    "                loss = criterion(outputs,labels)\n",
    "                predictions = torch.argmax(outputs,dim = 1)\n",
    "                totalSize += labels.size(0)\n",
    "                totalLoss += loss\n",
    "                correct += torch.sum(predictions == labels)\n",
    "            testAccuracy = correct/float(totalSize)\n",
    "            testLoss = totalLoss/float(len(test_loader))\n",
    "            trainLoss = totalTrainLoss/float(len(train_loader))\n",
    "            history['Train Loss'].append(trainLoss.item())\n",
    "            history['Test Loss'].append(testLoss.item())\n",
    "            history['Test Accuracy'].append(testAccuracy.item())\n",
    "            processBar.set_description(\"[%d/%d] Loss: %.4f, Acc: %.4f, Test Loss: %.4f, Test Acc: %.4f\" % \n",
    "                                   (epoch,n_epochs,loss.item(),accuracy.item(),testLoss.item(),testAccuracy.item()))\n",
    "    processBar.close()"
   ]
  },
  {
   "cell_type": "markdown",
   "metadata": {},
   "source": [
    "Let's see what the code does:\n",
    "\n",
    "- We start by iterating through the number of epochs, and then the batches in our training data.\n",
    "- We convert the images and the labels according to the device we are using, i.e., GPU or CPU.\n",
    "- In the forward pass, we make predictions using our model and calculate loss based on those predictions and our actual labels.\n",
    "- Next, we do the backward pass where we actually update our weights to improve our model\n",
    "- We then set the gradients to zero before every update using `optimizer.zero_grad()` function.\n",
    "- Then, we calculate the new gradients using the `loss.backward()` function.\n",
    "- And finally, we update the weights with the `optimizer.step()` function."
   ]
  },
  {
   "cell_type": "markdown",
   "metadata": {},
   "source": [
    "#### Check the GPU usage\n",
    "When training the network, if you are using a GPU, you can view the GPU usage by typing nvidia-smi on the terminal , as shown in the following figure:\n",
    "<div  align=\"center\"> <img src=\"images/image-20221028155350117.png\"  style=\"zoom:80%\" align=center /></div>"
   ]
  },
  {
   "cell_type": "markdown",
   "metadata": {},
   "source": [
    "### Loss and Accuracy Plots"
   ]
  },
  {
   "cell_type": "code",
   "execution_count": 37,
   "metadata": {},
   "outputs": [
    {
     "data": {
      "image/png": "[encoded data removed]",
      "text/plain": [
       "<Figure size 640x480 with 1 Axes>"
      ]
     },
     "metadata": {},
     "output_type": "display_data"
    }
   ],
   "source": [
    "#fig=plt.figure(figsize=(10, 8), dpi=60)\n",
    "#对测试Loss进行可视化\n",
    "plt.plot(history['Train Loss'],label = 'Train Loss')\n",
    "plt.plot(history['Test Loss'],label = 'Test Loss')\n",
    "plt.legend(loc='best')\n",
    "plt.grid(True)\n",
    "plt.xlabel('Epoch')\n",
    "plt.ylabel('Loss')\n",
    "plt.show()\n",
    "\n"
   ]
  },
  {
   "cell_type": "code",
   "execution_count": 38,
   "metadata": {},
   "outputs": [
    {
     "data": {
      "image/png": "[encoded data removed]",
      "text/plain": [
       "<Figure size 640x480 with 1 Axes>"
      ]
     },
     "metadata": {},
     "output_type": "display_data"
    }
   ],
   "source": [
    "#对测试准确率进行可视化\n",
    "plt.plot(history['Test Accuracy'],color = 'red',label = 'Test Accuracy')\n",
    "plt.legend(loc='best')\n",
    "plt.grid(True)\n",
    "plt.xlabel('Epoch')\n",
    "plt.ylabel('Accuracy')\n",
    "plt.show()"
   ]
  },
  {
   "cell_type": "markdown",
   "metadata": {},
   "source": [
    "### Load and save the model\n",
    "+ Load and save the model with the state dictionary (recommended)."
   ]
  },
  {
   "cell_type": "code",
   "execution_count": 40,
   "metadata": {},
   "outputs": [],
   "source": [
    "torch.save(net.state_dict(),'./models/mnist.pth')"
   ]
  },
  {
   "cell_type": "code",
   "execution_count": 41,
   "metadata": {},
   "outputs": [
    {
     "data": {
      "text/plain": [
       "Net(\n",
       "  (conv_pool1): Sequential(\n",
       "    (0): Conv2d(1, 6, kernel_size=(5, 5), stride=(1, 1))\n",
       "    (1): ReLU()\n",
       "    (2): MaxPool2d(kernel_size=2, stride=2, padding=0, dilation=1, ceil_mode=False)\n",
       "  )\n",
       "  (conv_pool2): Sequential(\n",
       "    (0): Conv2d(6, 16, kernel_size=(5, 5), stride=(1, 1))\n",
       "    (1): ReLU()\n",
       "    (2): MaxPool2d(kernel_size=2, stride=2, padding=0, dilation=1, ceil_mode=False)\n",
       "  )\n",
       "  (fc1): Sequential(\n",
       "    (0): Linear(in_features=400, out_features=120, bias=True)\n",
       "    (1): ReLU()\n",
       "  )\n",
       "  (fc2): Sequential(\n",
       "    (0): Linear(in_features=120, out_features=84, bias=True)\n",
       "    (1): ReLU()\n",
       "  )\n",
       "  (out): Sequential(\n",
       "    (0): Linear(in_features=84, out_features=10, bias=True)\n",
       "  )\n",
       ")"
      ]
     },
     "execution_count": 41,
     "metadata": {},
     "output_type": "execute_result"
    }
   ],
   "source": [
    "model = Net()\n",
    "model.load_state_dict(torch.load('./models/mnist.pth'))\n",
    "model.eval()"
   ]
  },
  {
   "cell_type": "markdown",
   "metadata": {},
   "source": [
    "Before making predictions, the `model.eval()` method must be called to set the `dropout` and `batch normalization` layers as validation models. Otherwise, your model generates inconsistent predictions.\n",
    " \n",
    "+  Load and save the entire model\n",
    "  "
   ]
  },
  {
   "cell_type": "code",
   "execution_count": 42,
   "metadata": {},
   "outputs": [],
   "source": [
    "torch.save(model, './models/mnist2.pth')"
   ]
  },
  {
   "cell_type": "code",
   "execution_count": 43,
   "metadata": {},
   "outputs": [
    {
     "data": {
      "text/plain": [
       "Net(\n",
       "  (conv_pool1): Sequential(\n",
       "    (0): Conv2d(1, 6, kernel_size=(5, 5), stride=(1, 1))\n",
       "    (1): ReLU()\n",
       "    (2): MaxPool2d(kernel_size=2, stride=2, padding=0, dilation=1, ceil_mode=False)\n",
       "  )\n",
       "  (conv_pool2): Sequential(\n",
       "    (0): Conv2d(6, 16, kernel_size=(5, 5), stride=(1, 1))\n",
       "    (1): ReLU()\n",
       "    (2): MaxPool2d(kernel_size=2, stride=2, padding=0, dilation=1, ceil_mode=False)\n",
       "  )\n",
       "  (fc1): Sequential(\n",
       "    (0): Linear(in_features=400, out_features=120, bias=True)\n",
       "    (1): ReLU()\n",
       "  )\n",
       "  (fc2): Sequential(\n",
       "    (0): Linear(in_features=120, out_features=84, bias=True)\n",
       "    (1): ReLU()\n",
       "  )\n",
       "  (out): Sequential(\n",
       "    (0): Linear(in_features=84, out_features=10, bias=True)\n",
       "  )\n",
       ")"
      ]
     },
     "execution_count": 43,
     "metadata": {},
     "output_type": "execute_result"
    }
   ],
   "source": [
    "# Model class must be defined somewhere\n",
    "model = Net()\n",
    "model = torch.load('./models/mnist2.pth')\n",
    "model.eval()\n"
   ]
  },
  {
   "cell_type": "markdown",
   "metadata": {},
   "source": [
    "### Sample Test Predictions\n"
   ]
  },
  {
   "cell_type": "code",
   "execution_count": 44,
   "metadata": {},
   "outputs": [
    {
     "data": {
      "image/png": "[encoded data removed]",
      "text/plain": [
       "<Figure size 600x480 with 16 Axes>"
      ]
     },
     "metadata": {},
     "output_type": "display_data"
    }
   ],
   "source": [
    "dataiter = iter(test_loader)\n",
    "images,labels = next(dataiter)\n",
    "\n",
    "outputs  = model(images)\n",
    "fig=plt.figure(figsize=(10, 8), dpi=60)\n",
    "for i in range(16):\n",
    "  plt.subplot(4,4,i+1)\n",
    "  plt.tight_layout()\n",
    "  plt.imshow(images[i][0], cmap='gray')\n",
    "  plt.title(\"Prediction: {}\".format(\n",
    "    outputs.data.max(1, keepdim=True)[1][i].item()))\n",
    "  plt.xticks([])\n",
    "  plt.yticks([])"
   ]
  },
  {
   "cell_type": "markdown",
   "metadata": {},
   "source": [
    "# Understanding various architectures of Convolutional Networks\n",
    "\n",
    "**Before starting we will see what are the architectures designed to date.** **These models were tested on ImageNet data where we have over a million images and 1000 classes to predict** \n",
    "\n",
    "![image-20221029175857201](images/image-20221029175857201.png)\n",
    "\n",
    " \n",
    "\n",
    "\n",
    "\n",
    "<img src=\"images/B12158_03_05.jpg\" alt=\"See the source image \" style=\"zoom:130%;\" />\n",
    "\n",
    "`LeNet-5` is a very basic architecture for anyone to start with advanced architectures\n",
    "\n",
    "\n",
    "\n",
    "> ILSVRC: ImageNet Large Scale Visual Recognition Challenge）\n",
    "\n",
    "\n",
    "\n",
    "\n",
    "### AlexNet(2012)\n",
    "\n",
    "**AlexNet was the winner of the ImageNet ILSVRC-2012 competition, designed by <big>Alex Krizhevsky, Ilya Sutskever and Geoffery E. Hinton</big>.**\n",
    "\n",
    "This was one of the first Deep convolutional networks to achieve considerable accuracy on the 2012 ImageNet LSVRC-2012 challenge with an accuracy of 84.7% as compared to the second-best with an accuracy of 73.8%.  [Refer](https://papers.nips.cc/paper/4824-imagenet-classification-with-deep-convolutional-neural-networks.pdf) to the original paper.\n",
    "\n",
    "\n",
    "\n",
    "\n",
    "\n",
    "<div  align=\"center\"> \n",
    "    <img src=\"images/1bD_DMBtKwveuzIkQTwjKQQ.png\"  style=\"zoom:100%\" align=center >\n",
    "    <br>\n",
    "    Alexnet Block Diagram\n",
    "</div>\n",
    "\n",
    "\n",
    "\n",
    "<div  align=\"center\"> \n",
    "    <img src=\"images/1vXBvV_Unz3JAxytc5iSeoQ.png\"  style=\"zoom:100%\" align=center >\n",
    "    \n",
    "</div>\n",
    "\n",
    "\n",
    "\n",
    "The network consists of 5 Convolutional (CONV) layers and 3 Fully Connected (FC) layers. The activation used is the Rectified Linear Unit (ReLU). The structural details of each layer in the network can be found in the table below.\n",
    "\n",
    "- The input to the network is a batch of RGB images of size 227x227x3 and outputs a 1000x1 probability vector one corresponding to each class.\n",
    "- Data augmentation is carried out to reduce over-fitting. This Data augmentation includes mirroring and cropping the images to increase the variation in the training data-set. The network uses an overlapped max-pooling layer after the first, second, and fifth CONV layers. Overlapped maxpool layers are simply maxpool layers with strides less than the window size. 3x3 maxpool layer is used with a stride of 2 hence creating overlapped receptive fields. This overlapping improved the top-1 and top-5 errors by 0.4% and 0.3%, respectively.\n",
    "\n",
    "- Before AlexNet, the most commonly used activation functions were *sigmoid* and *tanh.* Due to the saturated nature of these functions, they suffer from the Vanishing Gradient (VG) problem and make it difficult for the network to train. AlexNet uses the *ReLU* activation function which doesn’t suffer from the VG problem. The original paper showed that the network with *ReLU* achieved a 25% error rate about 6 times faster than the same network with *tanh* non-linearity.\n",
    "- Although ReLU helps with the vanishing gradient problem, due to its unbounded nature, the learned variables can become unnecessarily high. To prevent this, AlexNet introduced Local Response Normalization (LRN). The idea behind LRN is to carry out a normalization in a neighborhood of pixels amplifying the excited neuron while dampening the surrounding neurons at the same time.\n",
    "- AlexNet also addresses the over-fitting problem by using drop-out layers where a connection is dropped during training with a probability of p=0.5. Although this avoids the network from over-fitting by helping it escape from bad local minima, the number of iterations required for convergence is doubled too.\n",
    "\n",
    "## VGGNet(2014)\n",
    "\n",
    "**The architecture developed by <big>Simonyan</big> and <big>Zisserman</big> was <big>the 1st runner up of the Visual Recognition Challenge of 2014 </big>.** \n",
    "\n",
    "The major shortcoming of too many hyper-parameters of AlexNet was solved by VGG Net by replacing large kernel-sized filters (11 and 5 in the first and second convolution layer, respectively) with multiple 3×3 kernel-sized filters one after another. \n",
    "\n",
    "Let’s consider the following example. Say we have an input layer of size 5x5x1. Implementing a conv layer with a kernel size of 5x5 and stride one will result in an output feature map of 1x1. The same output feature map can be obtained by implementing two 3x3 conv layers with a stride of 1 as shown below\n",
    "<div  align=\"center\"> \n",
    "    <img src=\"images/1C3TmzJI0Nm94NDy9IQg3Qg.png\"  style=\"zoom:100%\" align=center >\n",
    "   \n",
    "</div>\n",
    "\n",
    "\n",
    "Now let’s look at the number of variables needed to be trained. For a 5x5 conv layer filter, the number of variables is 25. On the other hand, two conv layers of kernel size 3x3 have a total of 3x3x2=18 variables (a reduction of 28%).\n",
    "\n",
    "Similarly, the effect of one 7x7 (11x11) conv layer can be achieved by implementing three (five) 3x3 conv layers with a stride of one. This reduces the number of trainable variables by 44.9% (62.8%). A reduced number of trainable variables means faster learning and more robust to over-fitting.\n",
    "\n",
    "\n",
    "\n",
    "There are multiple variants of VGGNet (VGG16, VGG19, etc.) which differ only in the total number of layers in the network. The structural details of a VGG16 network have been shown below.\n",
    "\n",
    "\n",
    "\n",
    "<div  align=\"center\"> \n",
    "    <img src=\"images/1HzxRI1qHXjiVXla-_NiMBA.png\"  style=\"zoom:100%\" align=center >\n",
    "    <br>\n",
    "    VGG16 Block Diagram \n",
    "</div>\n",
    "\n",
    "<div  align=\"center\"> \n",
    "    <img src=\"images/11gA7d9svzp_jRHPsyy63Iw.png\"  style=\"zoom:100%\" align=center >\n",
    "   \n",
    "</div>\n",
    "\n",
    "\n",
    "\n",
    "VGG16 has a total of 138 million parameters. The important point to note here is that all the conv kernels are of size 3x3 and maxpool kernels are of size 2x2 with a stride of two.\n",
    "\n",
    "\n",
    "\n",
    "**Drawbacks of VGG Net:**\n",
    "\n",
    "1. Long training time\n",
    "2. Heavy model\n",
    "3. Computationally expensive\n",
    "4. Vanishing/exploding gradient problem\n",
    "\n",
    "## Inception Net(2014)\n",
    "\n",
    "\n",
    "\n",
    "Inception network also known as GoogleNet was proposed by developers at google in “Going Deeper with Convolutions” in 2014.\n",
    "\n",
    "**GoogLeNet was the winner of the ImageNet ILSVRC-2014 competition.** Its main feature is that the network not only has depth, but also has width.\n",
    "\n",
    "For better understanding refer to the image below:\n",
    "\n",
    "<div  align=\"center\"> \n",
    "    <img src=\"images\\14ZYNeTDs3ss_fq_MKSq7zQ.png\"  style=\"zoom:100%\" align=center >\n",
    "    <br>\n",
    "    Inception Module \n",
    "</div>\n",
    "\n",
    "\n",
    "\n",
    "\n",
    "\n",
    "Each inception module consists of four operations in parallel\n",
    "\n",
    "- 1x1 conv layer\n",
    "- 3x3 conv layer\n",
    "- 5x5 conv layer\n",
    "- max pooling\n",
    "\n",
    "The 1x1 conv blocks shown in yellow are used for depth reduction. The results from the four parallel operations are then concatenated depth-wise to form the Filter Concatenation block (in green). There is multiple version of Inception, the simplest one being the GoogLeNet.\n",
    "\n",
    "## ResNet(2015)\n",
    "\n",
    "**ResNet, the winner of ILSVRC-2015 competition are deep networks of over 100 layers.** \n",
    "\n",
    "ResNet architecture makes use of shortcut connections to solve the vanishing gradient problem. The basic building block of ResNet is a Residual block that is repeated throughout the network.\n",
    "\n",
    "\n",
    "\n",
    "<div  align=\"center\"> \n",
    "    <img src=\"images/16WlIo8W1_Qc01hjWdZy-1Q.png\"  style=\"zoom:100%\" align=center >\n",
    "    <br>\n",
    "    Residual Block \n",
    "</div>\n",
    "\n",
    "\n",
    "\n",
    "There are multiple versions of ResNetXX architectures where ‘XX’ denotes the number of layers. The most commonly used ones are ResNet50 and ResNet101. Since the vanishing gradient problem was t solved, , CNN started to get deeper and deeper. Below we present the structural details of ResNet18\n",
    "<div  align=\"center\"> \n",
    "    <img src=\"images/1DFDIdrXFYkaJLnefGJ-yKA.png\"  style=\"zoom:100%\" align=center >\n",
    "    <br>\n",
    "    Residual Block \n",
    "</div>\n",
    "\n",
    "\n",
    "\n",
    "Resnet18 has around 11 million trainable parameters. It consists of CONV layers with filters of size 3x3 (just like VGGNet). Only two pooling layers are used throughout the network one at the beginning and the other at the end of the network. Identity connections are between every two CONV layers. \n",
    "\n",
    "\n",
    "\n",
    "## Summary\n",
    "\n",
    "In the table below these four CNNs are sorted w.r.t their top-5 accuracy on the Imagenet dataset. The number of trainable parameters and the Floating Point Operations (FLOP) required for a forward pass can also be seen.\n",
    "\n",
    "![img](images/1p-2QjvJ4nDCfn3F5oIxvYA.png)\n",
    "\n",
    "\n"
   ]
  },
  {
   "cell_type": "markdown",
   "metadata": {},
   "source": [
    "## LAB Assignment\n",
    "### Exercise Image Classifier(100 points )\n",
    "Follow the above instructions of Image Classifier Training with PyTorch to train your own image classifier (using the [CIFAR10 dataset](https://pytorch.org/tutorials/beginner/blitz/cifar10_tutorial.html). \n",
    "\n",
    "Please try to improve performance of classification by trying different network structures (add layers, modify parameters and so on) and different training strategies (loss function, optimizer and so on). "
   ]
  }
 ],
 "metadata": {
  "kernelspec": {
   "display_name": "Python 3 (ipykernel)",
   "language": "python",
   "name": "python3"
  },
  "language_info": {
   "codemirror_mode": {
    "name": "ipython",
    "version": 3
   },
   "file_extension": ".py",
   "mimetype": "text/x-python",
   "name": "python",
   "nbconvert_exporter": "python",
   "pygments_lexer": "ipython3",
   "version": "3.8.18"
  },
  "toc": {
   "base_numbering": 1,
   "nav_menu": {},
   "number_sections": true,
   "sideBar": true,
   "skip_h1_title": true,
   "title_cell": "Table of Contents",
   "title_sidebar": "Contents",
   "toc_cell": true,
   "toc_position": {},
   "toc_section_display": true,
   "toc_window_display": false
  },
  "vscode": {
   "interpreter": {
    "hash": "9cf8428aa180ee23632ed7df20f7a595edda7c60e668686876baf89d702ea1cf"
   }
  }
 },
 "nbformat": 4,
 "nbformat_minor": 4
}
